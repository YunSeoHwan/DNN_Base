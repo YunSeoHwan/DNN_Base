{
  "nbformat": 4,
  "nbformat_minor": 0,
  "metadata": {
    "colab": {
      "provenance": [],
      "authorship_tag": "ABX9TyNjFMzoCCik+cmgEDqQ8CEp",
      "include_colab_link": true
    },
    "kernelspec": {
      "name": "python3",
      "display_name": "Python 3"
    },
    "language_info": {
      "name": "python"
    }
  },
  "cells": [
    {
      "cell_type": "markdown",
      "metadata": {
        "id": "view-in-github",
        "colab_type": "text"
      },
      "source": [
        "<a href=\"https://colab.research.google.com/github/YunSeoHwan/DNN_Base/blob/main/ch2_perceptron.ipynb\" target=\"_parent\"><img src=\"https://colab.research.google.com/assets/colab-badge.svg\" alt=\"Open In Colab\"/></a>"
      ]
    },
    {
      "cell_type": "markdown",
      "source": [
        "# **퍼셉트론 구현하기**"
      ],
      "metadata": {
        "id": "7EBSTVswBkYe"
      }
    },
    {
      "cell_type": "markdown",
      "source": [
        "## **AND Gate**"
      ],
      "metadata": {
        "id": "0q_XJxhfCWi6"
      }
    },
    {
      "cell_type": "code",
      "source": [
        "import numpy as np"
      ],
      "metadata": {
        "id": "Z-hbjKLSHwEl"
      },
      "execution_count": null,
      "outputs": []
    },
    {
      "cell_type": "code",
      "execution_count": null,
      "metadata": {
        "id": "GpM1SO4-BSBK"
      },
      "outputs": [],
      "source": [
        "def AND_Basic(x1, x2):\n",
        "    # weight, threshold\n",
        "    w1, w2, theta = 0.5, 0.5, 0.7\n",
        "    tmp = x1*w1 + x2*w2\n",
        "\n",
        "    if tmp <= theta:\n",
        "        return 0\n",
        "\n",
        "    elif tmp > theta:\n",
        "        return 1"
      ]
    },
    {
      "cell_type": "code",
      "source": [
        "inputs = [(0, 0), (1, 0), (0, 1), (1, 1)]\n",
        "\n",
        "for x1, x2 in inputs:\n",
        "    y = AND_Basic(x1, x2)\n",
        "    print(f'({x1}, {x2}) : {y}')"
      ],
      "metadata": {
        "colab": {
          "base_uri": "https://localhost:8080/"
        },
        "id": "-ua-2wk8GDej",
        "outputId": "dc1ad6f8-56b8-4f2e-8f0a-153e58129d8a"
      },
      "execution_count": null,
      "outputs": [
        {
          "output_type": "stream",
          "name": "stdout",
          "text": [
            "(0, 0) : 0\n",
            "(1, 0) : 0\n",
            "(0, 1) : 0\n",
            "(1, 1) : 1\n"
          ]
        }
      ]
    },
    {
      "cell_type": "markdown",
      "source": [
        "## **AND Gate(bias)**"
      ],
      "metadata": {
        "id": "-pOTcg53HJG7"
      }
    },
    {
      "cell_type": "code",
      "source": [
        "def AND(x1, x2):\n",
        "\n",
        "    x = np.array([x1, x2])\n",
        "    w = np.array([0.5, 0.5])\n",
        "    b = -0.7\n",
        "\n",
        "    tmp = np.sum(x*w) + b\n",
        "\n",
        "    if tmp <= 0:\n",
        "        return 0\n",
        "    else:\n",
        "        return 1"
      ],
      "metadata": {
        "id": "I5Fr7r1gHeN4"
      },
      "execution_count": null,
      "outputs": []
    },
    {
      "cell_type": "code",
      "source": [
        "inputs = [(0, 0), (1, 0), (0, 1), (1, 1)]\n",
        "\n",
        "for x1, x2 in inputs:\n",
        "    y = AND(x1, x2)\n",
        "    print(f'({x1}, {x2}) : {y}')"
      ],
      "metadata": {
        "colab": {
          "base_uri": "https://localhost:8080/"
        },
        "id": "qp5H5ZGqII2K",
        "outputId": "7a9bee82-92ef-4e46-de0d-6a5da2218ea5"
      },
      "execution_count": null,
      "outputs": [
        {
          "output_type": "stream",
          "name": "stdout",
          "text": [
            "(0, 0) : 0\n",
            "(1, 0) : 0\n",
            "(0, 1) : 0\n",
            "(1, 1) : 1\n"
          ]
        }
      ]
    },
    {
      "cell_type": "markdown",
      "source": [
        "## **NAND Gate**"
      ],
      "metadata": {
        "id": "RNlQG8xRIRBm"
      }
    },
    {
      "cell_type": "code",
      "source": [
        "def NAND(x1, x2):\n",
        "\n",
        "    x = np.array([x1, x2])\n",
        "    w = np.array([-0.5, -0.5])    # AND와 가중치 반대\n",
        "    b = 0.7\n",
        "\n",
        "    tmp = np.sum(x*w) + b\n",
        "\n",
        "    if tmp <= 0:\n",
        "        return 0\n",
        "    else:\n",
        "        return 1"
      ],
      "metadata": {
        "id": "g7--FPHXIUNG"
      },
      "execution_count": null,
      "outputs": []
    },
    {
      "cell_type": "markdown",
      "source": [
        "## **OR Gate**"
      ],
      "metadata": {
        "id": "O2O90SB3JDSi"
      }
    },
    {
      "cell_type": "code",
      "source": [
        "def OR(x1, x2):\n",
        "\n",
        "   x = np.array([x1, x2])\n",
        "   w = np.array([0.5, 0.5])\n",
        "   b = -0.2\n",
        "\n",
        "   tmp = np.sum(w*x) + b\n",
        "\n",
        "   if tmp <= 0:\n",
        "       return 0\n",
        "   else:\n",
        "       return 1"
      ],
      "metadata": {
        "id": "Ga0jSuPtJFik"
      },
      "execution_count": null,
      "outputs": []
    },
    {
      "cell_type": "code",
      "source": [
        "inputs = [(0, 0), (1, 0), (0, 1), (1, 1)]\n",
        "\n",
        "print('NAND')\n",
        "for x1, x2 in inputs:\n",
        "    y = NAND(x1, x2)\n",
        "    print(f'({x1}, {x2}) : {y}')\n",
        "\n",
        "print('\\nOR')\n",
        "for x1, x2 in inputs:\n",
        "    y = OR(x1, x2)\n",
        "    print(f'({x1}, {x2}) : {y}')"
      ],
      "metadata": {
        "colab": {
          "base_uri": "https://localhost:8080/"
        },
        "id": "6VuurX7-Jqaz",
        "outputId": "78d43aac-4712-4e3d-b477-9988ae537b07"
      },
      "execution_count": null,
      "outputs": [
        {
          "output_type": "stream",
          "name": "stdout",
          "text": [
            "NAND\n",
            "(0, 0) : 1\n",
            "(1, 0) : 1\n",
            "(0, 1) : 1\n",
            "(1, 1) : 0\n",
            "\n",
            "OR\n",
            "(0, 0) : 0\n",
            "(1, 0) : 1\n",
            "(0, 1) : 1\n",
            "(1, 1) : 1\n"
          ]
        }
      ]
    },
    {
      "cell_type": "markdown",
      "source": [
        "# **다층 퍼셉트론**"
      ],
      "metadata": {
        "id": "n1cCBPAkKkze"
      }
    },
    {
      "cell_type": "markdown",
      "source": [
        "## **XOR Gate**"
      ],
      "metadata": {
        "id": "XgLnaoVmKphv"
      }
    },
    {
      "cell_type": "code",
      "source": [
        "def XOR(x1, x2):\n",
        "\n",
        "   s1 = NAND(x1, x2)\n",
        "   s2 = OR(x1, x2)\n",
        "   y = AND(s1, s2)\n",
        "   return y"
      ],
      "metadata": {
        "id": "an1gpcAhKn7P"
      },
      "execution_count": null,
      "outputs": []
    },
    {
      "cell_type": "code",
      "source": [
        "print('XOR')\n",
        "for x1, x2 in inputs:\n",
        "    y = XOR(x1, x2)\n",
        "    print(f'({x1}, {x2}) : {y}')"
      ],
      "metadata": {
        "colab": {
          "base_uri": "https://localhost:8080/"
        },
        "id": "v40TgdMWKyZU",
        "outputId": "c49818e3-e6b3-495f-e657-43d8132f3216"
      },
      "execution_count": null,
      "outputs": [
        {
          "output_type": "stream",
          "name": "stdout",
          "text": [
            "XOR\n",
            "(0, 0) : 0\n",
            "(1, 0) : 1\n",
            "(0, 1) : 1\n",
            "(1, 1) : 0\n"
          ]
        }
      ]
    }
  ]
}
