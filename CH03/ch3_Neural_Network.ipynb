{
  "nbformat": 4,
  "nbformat_minor": 0,
  "metadata": {
    "colab": {
      "provenance": [],
      "toc_visible": true,
      "mount_file_id": "13QpMsqOyCT2knWY1HqsBC3hFz0fH9hNR",
      "authorship_tag": "ABX9TyOfM9Q8375lp8/taPuHgeMO",
      "include_colab_link": true
    },
    "kernelspec": {
      "name": "python3",
      "display_name": "Python 3"
    },
    "language_info": {
      "name": "python"
    }
  },
  "cells": [
    {
      "cell_type": "markdown",
      "metadata": {
        "id": "view-in-github",
        "colab_type": "text"
      },
      "source": [
        "<a href=\"https://colab.research.google.com/github/YunSeoHwan/DNN_Base/blob/main/CH03/ch3_Neural_Network.ipynb\" target=\"_parent\"><img src=\"https://colab.research.google.com/assets/colab-badge.svg\" alt=\"Open In Colab\"/></a>"
      ]
    },
    {
      "cell_type": "markdown",
      "source": [
        "# **Activate function**"
      ],
      "metadata": {
        "id": "OXh8e7wCSv7i"
      }
    },
    {
      "cell_type": "markdown",
      "source": [
        "## **Step function**"
      ],
      "metadata": {
        "id": "X552iw3iTi_u"
      }
    },
    {
      "cell_type": "code",
      "source": [
        "import numpy as np"
      ],
      "metadata": {
        "id": "yJGGkbReWbMr"
      },
      "execution_count": null,
      "outputs": []
    },
    {
      "cell_type": "code",
      "execution_count": null,
      "metadata": {
        "id": "VQCsgy5DPEKi"
      },
      "outputs": [],
      "source": [
        "def step_function(x):\n",
        "    y = x > 0\n",
        "    return y.astype(np.int)"
      ]
    },
    {
      "cell_type": "markdown",
      "source": [
        "# **Neural Network**"
      ],
      "metadata": {
        "id": "gq_D6okQcFao"
      }
    },
    {
      "cell_type": "code",
      "source": [
        "def init_network():\n",
        "    network = {}\n",
        "    network['W1'] = np.array([])"
      ],
      "metadata": {
        "id": "YDTuEPdtcJne"
      },
      "execution_count": null,
      "outputs": []
    },
    {
      "cell_type": "markdown",
      "source": [
        "## **Softmax**"
      ],
      "metadata": {
        "id": "kxF04FNBxvcd"
      }
    },
    {
      "cell_type": "code",
      "source": [
        "def softmax(x):\n",
        "    exp_x = np.exp(x)\n",
        "    sum_exp_x = np.sum(exp_x)\n",
        "    y = exp_x / sum_exp_x\n",
        "\n",
        "    return y\n",
        "\n",
        "a = np.array([0.3, 2.9, 4.0])\n",
        "print(softmax(a))\n",
        "print()\n",
        "\n",
        "error_a = np.array([1010, 1000, 930])\n",
        "print(softmax(error_a))"
      ],
      "metadata": {
        "colab": {
          "base_uri": "https://localhost:8080/"
        },
        "id": "tC-yc9pMxu2X",
        "outputId": "b1e6c8b1-8738-4868-f426-486cb33979d7"
      },
      "execution_count": null,
      "outputs": [
        {
          "output_type": "stream",
          "name": "stdout",
          "text": [
            "[0.01821127 0.24519181 0.73659691]\n",
            "\n",
            "[nan nan nan]\n"
          ]
        },
        {
          "output_type": "stream",
          "name": "stderr",
          "text": [
            "<ipython-input-2-4ea527fb46ca>:2: RuntimeWarning: overflow encountered in exp\n",
            "  exp_x = np.exp(x)\n",
            "<ipython-input-2-4ea527fb46ca>:4: RuntimeWarning: invalid value encountered in divide\n",
            "  y = exp_x / sum_exp_x\n"
          ]
        }
      ]
    },
    {
      "cell_type": "code",
      "source": [
        "def softmax(x):\n",
        "    c = np.max(x)\n",
        "    exp_x = np.exp(x - c)\n",
        "    sum_exp_x = np.sum(exp_x)\n",
        "    y = exp_x / sum_exp_x\n",
        "\n",
        "    return y\n",
        "\n",
        "a = np.array([0.3, 2.9, 4.0])\n",
        "print(softmax(a))\n",
        "print()\n",
        "\n",
        "error_a = np.array([1010, 1000, 930])\n",
        "print(softmax(error_a))"
      ],
      "metadata": {
        "colab": {
          "base_uri": "https://localhost:8080/"
        },
        "id": "zblhKmNzy5Jo",
        "outputId": "0c8e51df-9a1a-49b2-896d-6c2cfd51101a"
      },
      "execution_count": null,
      "outputs": [
        {
          "output_type": "stream",
          "name": "stdout",
          "text": [
            "[0.01821127 0.24519181 0.73659691]\n",
            "\n",
            "[9.99954602e-01 4.53978687e-05 1.80476945e-35]\n"
          ]
        }
      ]
    },
    {
      "cell_type": "markdown",
      "source": [
        "# **MNIST**"
      ],
      "metadata": {
        "id": "2Uvkx0X44vu0"
      }
    },
    {
      "cell_type": "markdown",
      "source": [
        "## **MINST Show**"
      ],
      "metadata": {
        "id": "eae4PCSo_-sh"
      }
    },
    {
      "cell_type": "code",
      "source": [
        "import sys, os\n",
        "import numpy as np\n",
        "sys.path.append('/content/drive/MyDrive/Colab Notebooks/DNN_base/dataset/mnist.py')\n",
        "from mnist import load_mnist\n",
        "import matplotlib.pyplot as plt\n",
        "\n",
        "def img_show(img):\n",
        "    plt.imshow(img, cmap='gray')\n",
        "    plt.axis('off')\n",
        "    plt.show()\n",
        "\n",
        "(x_train, t_train), (x_test, t_test) = load_mnist(normalize=True, flatten=True, one_hot_label=False)\n",
        "\n",
        "print(x_train.shape)\n",
        "print(t_train.shape)\n",
        "print(x_test.shape)\n",
        "print(x_test.shape)\n",
        "\n",
        "img = x_train[0]\n",
        "label = t_train[0]\n",
        "print(label)  # 5\n",
        "\n",
        "print(img.shape)  # (784,)\n",
        "img = img.reshape(28, 28)  # 형상을 원래 이미지의 크기로 변형\n",
        "print(img.shape)  # (28, 28)\n",
        "\n",
        "img_show(img)"
      ],
      "metadata": {
        "colab": {
          "base_uri": "https://localhost:8080/",
          "height": 537
        },
        "id": "93-kTqQ4zw3p",
        "outputId": "b3459733-d64d-402f-8f80-7bbd56151aec"
      },
      "execution_count": null,
      "outputs": [
        {
          "output_type": "stream",
          "name": "stdout",
          "text": [
            "(60000, 784)\n",
            "(60000,)\n",
            "(10000, 784)\n",
            "(10000, 784)\n",
            "5\n",
            "(784,)\n",
            "(28, 28)\n"
          ]
        },
        {
          "output_type": "display_data",
          "data": {
            "text/plain": [
              "<Figure size 640x480 with 1 Axes>"
            ],
            "image/png": "[encoded data removed]"
          },
          "metadata": {}
        }
      ]
    },
    {
      "cell_type": "markdown",
      "source": [
        "## **Forwork propagation**"
      ],
      "metadata": {
        "id": "Rjcuk9IsAEl4"
      }
    },
    {
      "cell_type": "code",
      "source": [
        "import pickle\n",
        "sys.path.append('/content/drive/MyDrive/Colab Notebooks/DNN_base/common/functions.py')\n",
        "from functions import sigmoid, softmax\n",
        "\n",
        "def get_data():\n",
        "    (x_train, t_train), (x_test, t_test) = load_mnist(normalize=True, flatten=True, one_hot_label=False)\n",
        "    return x_test, t_test\n",
        "\n",
        "def init_network():\n",
        "    with open(\"/content/drive/MyDrive/Colab Notebooks/DNN_base/ch03/sample_weight.pkl\", 'rb') as f:\n",
        "        network = pickle.load(f)\n",
        "\n",
        "    return network\n",
        "\n",
        "def predict(network, x):\n",
        "    W1, W2, W3 = network['W1'], network['W2'], network['W3']\n",
        "    b1, b2, b3 = network['b1'], network['b2'], network['b3']\n",
        "\n",
        "    a1 = np.dot(x, W1) + b1\n",
        "    z1 = sigmoid(a1)\n",
        "    a2 = np.dot(z1, W2) + b2\n",
        "    z2 = sigmoid(a2)\n",
        "    a3 = np.dot(z2, W3) + b3\n",
        "    y = softmax(a3)\n",
        "\n",
        "    return y\n",
        "\n",
        "x, t = get_data()\n",
        "network = init_network()\n",
        "\n",
        "acc = 0\n",
        "for i in range(len(x)):\n",
        "    y = predict(network, x[i])  # forword propagation\n",
        "    p = np.argmax(y)    # 최대 확률값 도출\n",
        "    if p == t[i]:\n",
        "        acc += 1\n",
        "\n",
        "print(\"Accuracy : \" + str(float(acc) / len(x)))"
      ],
      "metadata": {
        "colab": {
          "base_uri": "https://localhost:8080/"
        },
        "id": "olKftPef5tfe",
        "outputId": "f37d1b72-2c26-4141-f8f0-1550b9b214d7"
      },
      "execution_count": null,
      "outputs": [
        {
          "output_type": "stream",
          "name": "stdout",
          "text": [
            "Accuracy : 0.9352\n"
          ]
        }
      ]
    },
    {
      "cell_type": "markdown",
      "source": [
        "# **Batch**"
      ],
      "metadata": {
        "id": "MSUuMtnTMnPm"
      }
    },
    {
      "cell_type": "code",
      "source": [
        "x, t = get_data()\n",
        "network = init_network()\n",
        "\n",
        "batch_size = 100\n",
        "acc = 0\n",
        "\n",
        "for i in range(0, len(x), batch_size):\n",
        "    x_batch = x[i:i + batch_size]\n",
        "    y_batch = predict(network, x_batch)\n",
        "    p = np.argmax(y_batch, axis=1)  # 행 단위로 max 도출 -> 1x100 index return\n",
        "    acc += np.sum(p == t[i:i + batch_size]) # bool 단위 비교 -> True만 1로 측정\n",
        "\n",
        "print(\"Accuracy : \" + str(float(acc) / len(x)))"
      ],
      "metadata": {
        "id": "OZg5p4Q1Mq5K",
        "colab": {
          "base_uri": "https://localhost:8080/"
        },
        "outputId": "77bd4265-0f55-4062-db12-a8bbb57d2896"
      },
      "execution_count": 31,
      "outputs": [
        {
          "output_type": "stream",
          "name": "stdout",
          "text": [
            "Accuracy : 0.9352\n"
          ]
        }
      ]
    },
    {
      "cell_type": "code",
      "source": [
        "x = np.array([[1, 2, 3], [4, 5, 6], [7, 8, 9]])\n",
        "y = np.argmax(x, axis=1)\n",
        "print(y)"
      ],
      "metadata": {
        "colab": {
          "base_uri": "https://localhost:8080/"
        },
        "id": "SZUmV1jcQtnE",
        "outputId": "82a38af0-3ede-4cf4-924c-7d4219dc828c"
      },
      "execution_count": 32,
      "outputs": [
        {
          "output_type": "stream",
          "name": "stdout",
          "text": [
            "[2 2 2]\n"
          ]
        }
      ]
    }
  ]
}