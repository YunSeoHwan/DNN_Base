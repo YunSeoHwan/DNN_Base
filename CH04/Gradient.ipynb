{
  "nbformat": 4,
  "nbformat_minor": 0,
  "metadata": {
    "colab": {
      "provenance": [],
      "toc_visible": true,
      "mount_file_id": "1BqN2cWG8yCfsl5BpldSMR2TL7OpnheT3",
      "authorship_tag": "ABX9TyNmlUBNOIQK16QPsC/QeBRp",
      "include_colab_link": true
    },
    "kernelspec": {
      "name": "python3",
      "display_name": "Python 3"
    },
    "language_info": {
      "name": "python"
    }
  },
  "cells": [
    {
      "cell_type": "markdown",
      "metadata": {
        "id": "view-in-github",
        "colab_type": "text"
      },
      "source": [
        "<a href=\"https://colab.research.google.com/github/YunSeoHwan/DNN_Base/blob/main/CH04/Gradient.ipynb\" target=\"_parent\"><img src=\"https://colab.research.google.com/assets/colab-badge.svg\" alt=\"Open In Colab\"/></a>"
      ]
    },
    {
      "cell_type": "markdown",
      "source": [
        "# **Loss Function**"
      ],
      "metadata": {
        "id": "JTsYDpfxJ21f"
      }
    },
    {
      "cell_type": "markdown",
      "source": [
        "## **SSE**"
      ],
      "metadata": {
        "id": "91H02G0BJ8xJ"
      }
    },
    {
      "cell_type": "code",
      "source": [
        "import numpy as np"
      ],
      "metadata": {
        "id": "fnHCkaXGKNDQ"
      },
      "execution_count": 1,
      "outputs": []
    },
    {
      "cell_type": "code",
      "execution_count": 24,
      "metadata": {
        "id": "0J1jY7EaWME5"
      },
      "outputs": [],
      "source": [
        "# MSE 함수 구현\n",
        "def mean_squared_error(y, t):\n",
        "   return 0.5 * np.sum((y - t)**2)"
      ]
    },
    {
      "cell_type": "code",
      "source": [
        "# 정답은 '2' -> one-hot\n",
        "t = [0, 0, 1, 0, 0, 0, 0, 0, 0, 0]\n",
        "\n",
        "# ex1) : '2'일 확률이 가장 높다고 추정함(0.6) -> softmax 결과값\n",
        "y = [0.1, 0.05, 0.6, 0.0, 0.05, 0.1, 0.0, 0.1, 0.0, 0.0]\n",
        "print('MSE of ex1 =', mean_squared_error(np.array(y), np.array(t)))\n",
        "\n",
        "# ex2) : '7'일 확률이 가장 높다고 추정함(0.6)\n",
        "y = [0.1, 0.05, 0.1, 0.0, 0.05, 0.1, 0.0, 0.6, 0.0, 0.0]\n",
        "print('MSE of ex2 =', mean_squared_error(np.array(y), np.array(t)))"
      ],
      "metadata": {
        "colab": {
          "base_uri": "https://localhost:8080/"
        },
        "id": "7VXmhh2SLH3G",
        "outputId": "62d01867-8ed7-4a39-e638-3960ca0d8ce1"
      },
      "execution_count": 25,
      "outputs": [
        {
          "output_type": "stream",
          "name": "stdout",
          "text": [
            "MSE of ex1 = 0.09750000000000003\n",
            "MSE of ex2 = 0.5975\n"
          ]
        }
      ]
    },
    {
      "cell_type": "markdown",
      "source": [
        "## **Cross Entropy**"
      ],
      "metadata": {
        "id": "ecDXZQnqKl1c"
      }
    },
    {
      "cell_type": "code",
      "source": [
        "def cross_entropy_error(y, t):\n",
        "    delta = 1e-7    # log0 방지\n",
        "    return -np.sum(t * np.log(y + delta))"
      ],
      "metadata": {
        "id": "YnYFNbTwKjVs"
      },
      "execution_count": 6,
      "outputs": []
    },
    {
      "cell_type": "code",
      "source": [
        "# answer = 2\n",
        "t = [0, 0, 1, 0, 0, 0, 0, 0, 0, 0]\n",
        "\n",
        "# answer\n",
        "y = [0.1, 0.05, 0.6, 0.0, 0.05, 0.1, 0.0, 0.1, 0.0, 0.0]\n",
        "mse_answer = cross_entropy_error(np.array(y), np.array(t))\n",
        "print(f\"Answer : {mse_answer}\")\n",
        "\n",
        "# error\n",
        "y = [0.1, 0.05, 0.1, 0.0, 0.05, 0.1, 0.0, 0.6, 0.0, 0.0]\n",
        "mse_error = cross_entropy_error(np.array(y), np.array(t))\n",
        "print(f\"Error : {mse_error}\")"
      ],
      "metadata": {
        "colab": {
          "base_uri": "https://localhost:8080/"
        },
        "id": "S4EGCtkdLnlR",
        "outputId": "aa44e247-c8b1-4b07-fae2-8ee60ad20817"
      },
      "execution_count": 7,
      "outputs": [
        {
          "output_type": "stream",
          "name": "stdout",
          "text": [
            "Answer : 0.510825457099338\n",
            "Error : 2.302584092994546\n"
          ]
        }
      ]
    },
    {
      "cell_type": "markdown",
      "source": [
        "# **Mini Batch**"
      ],
      "metadata": {
        "id": "w_D-KtKZMzWO"
      }
    },
    {
      "cell_type": "code",
      "source": [
        "import sys, os\n",
        "sys.path.append('/content/drive/MyDrive/Colab Notebooks/DNN_base/dataset')\n",
        "from mnist import load_mnist\n",
        "\n",
        "(x_train, t_train), (x_test, t_test) = load_mnist(normalize=True, one_hot_label=False)\n",
        "\n",
        "print('x_train.shape :', x_train.shape) # image\n",
        "print('t_train.shape :', t_train.shape) # label"
      ],
      "metadata": {
        "colab": {
          "base_uri": "https://localhost:8080/"
        },
        "id": "5T2tC_kPM15c",
        "outputId": "b60818da-f4c5-4c4f-ff16-0364cdd6674e"
      },
      "execution_count": 26,
      "outputs": [
        {
          "output_type": "stream",
          "name": "stdout",
          "text": [
            "x_train.shape : (60000, 784)\n",
            "t_train.shape : (60000,)\n"
          ]
        }
      ]
    },
    {
      "cell_type": "code",
      "source": [
        "# 무작위 10개 추출\n",
        "train_size = x_train.shape[0]\n",
        "batch_size = 10\n",
        "\n",
        "batch_mask = np.random.choice(train_size, batch_size)   # 60000개 중 10개만 추출\n",
        "\n",
        "x_batch = x_train[batch_mask]\n",
        "t_batch = t_train[batch_mask]\n",
        "\n",
        "print('batch_mask :', batch_mask)\n",
        "print('x_batch.shape :', x_batch.shape)\n",
        "print('t_batch.shape :', t_batch.shape)"
      ],
      "metadata": {
        "colab": {
          "base_uri": "https://localhost:8080/"
        },
        "id": "EOULYrSxPGGj",
        "outputId": "425db950-9948-4226-b829-b760c3dd686c"
      },
      "execution_count": 27,
      "outputs": [
        {
          "output_type": "stream",
          "name": "stdout",
          "text": [
            "batch_mask : [ 5651 48206  7316 23124 43701 28837 46731 46632 27684  3970]\n",
            "x_batch.shape : (10, 784)\n",
            "t_batch.shape : (10,)\n"
          ]
        }
      ]
    },
    {
      "cell_type": "markdown",
      "source": [
        "## **Mini batch cross entropy**"
      ],
      "metadata": {
        "id": "np1wXIonRERW"
      }
    },
    {
      "cell_type": "code",
      "source": [
        "# One-hot\n",
        "def cross_entropy_error(y, t):\n",
        "   if y.ndim == 1:\n",
        "       t = t.reshape(1, t.size)\n",
        "       y = y.reshape(1, y.size)\n",
        "\n",
        "   batch_size = y.shape[0]\n",
        "   return -np.sum(t * np.log(y)) / batch_size"
      ],
      "metadata": {
        "id": "BFm02-fnRD0V"
      },
      "execution_count": 28,
      "outputs": []
    },
    {
      "cell_type": "code",
      "source": [
        "# label\n",
        "def cross_entropy_error(y, t):\n",
        "   if y.ndim == 1:\n",
        "       t = t.reshape(1, t.size)\n",
        "       y = y.reshape(1, y.size)\n",
        "\n",
        "   batch_size = y.shape[0]\n",
        "   return -np.sum(np.log(y[np.arange(batch_size), t])) / batch_size # y[0, t_1], y[1, t_2], ..."
      ],
      "metadata": {
        "id": "jEqbVSOwSqel"
      },
      "execution_count": 30,
      "outputs": []
    },
    {
      "cell_type": "markdown",
      "source": [
        "# **수치 미분**"
      ],
      "metadata": {
        "id": "txxpv9wYViN_"
      }
    },
    {
      "cell_type": "markdown",
      "source": [
        "## **미분**"
      ],
      "metadata": {
        "id": "orJH-09PVaWs"
      }
    },
    {
      "cell_type": "code",
      "source": [
        "def numerical_diff(f, x):\n",
        "   h = 1e-4  # 0.0001\n",
        "   return (f(x+h) - f(x-h)) / (2*h) # 오차를 줄이기 위한 차분\n",
        "\n",
        "np.float32(1e-50) # 너무 작은 값은 계산이 안됨 -> 1e-4가 적당하다고 알려짐"
      ],
      "metadata": {
        "colab": {
          "base_uri": "https://localhost:8080/"
        },
        "id": "ZWWshRjnVdXe",
        "outputId": "9e56aea1-592c-4c09-83a5-dd07c1c23a61"
      },
      "execution_count": 31,
      "outputs": [
        {
          "output_type": "execute_result",
          "data": {
            "text/plain": [
              "0.0"
            ]
          },
          "metadata": {},
          "execution_count": 31
        }
      ]
    }
  ]
}