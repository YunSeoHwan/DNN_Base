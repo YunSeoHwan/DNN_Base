{
  "nbformat": 4,
  "nbformat_minor": 0,
  "metadata": {
    "colab": {
      "provenance": [],
      "toc_visible": true,
      "mount_file_id": "1BqN2cWG8yCfsl5BpldSMR2TL7OpnheT3",
      "authorship_tag": "ABX9TyPABgB244F0KIG2Zja3ilto",
      "include_colab_link": true
    },
    "kernelspec": {
      "name": "python3",
      "display_name": "Python 3"
    },
    "language_info": {
      "name": "python"
    }
  },
  "cells": [
    {
      "cell_type": "markdown",
      "metadata": {
        "id": "view-in-github",
        "colab_type": "text"
      },
      "source": [
        "<a href=\"https://colab.research.google.com/github/YunSeoHwan/DNN_Base/blob/main/CH04/Gradient.ipynb\" target=\"_parent\"><img src=\"https://colab.research.google.com/assets/colab-badge.svg\" alt=\"Open In Colab\"/></a>"
      ]
    },
    {
      "cell_type": "markdown",
      "source": [
        "# **Loss Function**"
      ],
      "metadata": {
        "id": "JTsYDpfxJ21f"
      }
    },
    {
      "cell_type": "markdown",
      "source": [
        "## **SSE**"
      ],
      "metadata": {
        "id": "91H02G0BJ8xJ"
      }
    },
    {
      "cell_type": "code",
      "source": [
        "import numpy as np"
      ],
      "metadata": {
        "id": "fnHCkaXGKNDQ"
      },
      "execution_count": null,
      "outputs": []
    },
    {
      "cell_type": "code",
      "execution_count": null,
      "metadata": {
        "id": "0J1jY7EaWME5"
      },
      "outputs": [],
      "source": [
        "# MSE 함수 구현\n",
        "def mean_squared_error(y, t):\n",
        "   return 0.5 * np.sum((y - t)**2)"
      ]
    },
    {
      "cell_type": "code",
      "source": [
        "# 정답은 '2' -> one-hot\n",
        "t = [0, 0, 1, 0, 0, 0, 0, 0, 0, 0]\n",
        "\n",
        "# ex1) : '2'일 확률이 가장 높다고 추정함(0.6) -> softmax 결과값\n",
        "y = [0.1, 0.05, 0.6, 0.0, 0.05, 0.1, 0.0, 0.1, 0.0, 0.0]\n",
        "print('MSE of ex1 =', mean_squared_error(np.array(y), np.array(t)))\n",
        "\n",
        "# ex2) : '7'일 확률이 가장 높다고 추정함(0.6)\n",
        "y = [0.1, 0.05, 0.1, 0.0, 0.05, 0.1, 0.0, 0.6, 0.0, 0.0]\n",
        "print('MSE of ex2 =', mean_squared_error(np.array(y), np.array(t)))"
      ],
      "metadata": {
        "colab": {
          "base_uri": "https://localhost:8080/"
        },
        "id": "7VXmhh2SLH3G",
        "outputId": "62d01867-8ed7-4a39-e638-3960ca0d8ce1"
      },
      "execution_count": null,
      "outputs": [
        {
          "output_type": "stream",
          "name": "stdout",
          "text": [
            "MSE of ex1 = 0.09750000000000003\n",
            "MSE of ex2 = 0.5975\n"
          ]
        }
      ]
    },
    {
      "cell_type": "markdown",
      "source": [
        "## **Cross Entropy**"
      ],
      "metadata": {
        "id": "ecDXZQnqKl1c"
      }
    },
    {
      "cell_type": "code",
      "source": [
        "def cross_entropy_error(y, t):\n",
        "    delta = 1e-7    # log0 방지\n",
        "    return -np.sum(t * np.log(y + delta))"
      ],
      "metadata": {
        "id": "YnYFNbTwKjVs"
      },
      "execution_count": null,
      "outputs": []
    },
    {
      "cell_type": "code",
      "source": [
        "# answer = 2\n",
        "t = [0, 0, 1, 0, 0, 0, 0, 0, 0, 0]\n",
        "\n",
        "# answer\n",
        "y = [0.1, 0.05, 0.6, 0.0, 0.05, 0.1, 0.0, 0.1, 0.0, 0.0]\n",
        "mse_answer = cross_entropy_error(np.array(y), np.array(t))\n",
        "print(f\"Answer : {mse_answer}\")\n",
        "\n",
        "# error\n",
        "y = [0.1, 0.05, 0.1, 0.0, 0.05, 0.1, 0.0, 0.6, 0.0, 0.0]\n",
        "mse_error = cross_entropy_error(np.array(y), np.array(t))\n",
        "print(f\"Error : {mse_error}\")"
      ],
      "metadata": {
        "colab": {
          "base_uri": "https://localhost:8080/"
        },
        "id": "S4EGCtkdLnlR",
        "outputId": "aa44e247-c8b1-4b07-fae2-8ee60ad20817"
      },
      "execution_count": null,
      "outputs": [
        {
          "output_type": "stream",
          "name": "stdout",
          "text": [
            "Answer : 0.510825457099338\n",
            "Error : 2.302584092994546\n"
          ]
        }
      ]
    },
    {
      "cell_type": "markdown",
      "source": [
        "# **Mini Batch**"
      ],
      "metadata": {
        "id": "w_D-KtKZMzWO"
      }
    },
    {
      "cell_type": "code",
      "source": [
        "import sys, os\n",
        "sys.path.append('/content/drive/MyDrive/Colab Notebooks/DNN_base/dataset')\n",
        "from mnist import load_mnist\n",
        "\n",
        "(x_train, t_train), (x_test, t_test) = load_mnist(normalize=True, one_hot_label=False)\n",
        "\n",
        "print('x_train.shape :', x_train.shape) # image\n",
        "print('t_train.shape :', t_train.shape) # label"
      ],
      "metadata": {
        "colab": {
          "base_uri": "https://localhost:8080/"
        },
        "id": "5T2tC_kPM15c",
        "outputId": "b60818da-f4c5-4c4f-ff16-0364cdd6674e"
      },
      "execution_count": null,
      "outputs": [
        {
          "output_type": "stream",
          "name": "stdout",
          "text": [
            "x_train.shape : (60000, 784)\n",
            "t_train.shape : (60000,)\n"
          ]
        }
      ]
    },
    {
      "cell_type": "code",
      "source": [
        "# 무작위 10개 추출\n",
        "train_size = x_train.shape[0]\n",
        "batch_size = 10\n",
        "\n",
        "batch_mask = np.random.choice(train_size, batch_size)   # 60000개 중 10개만 추출\n",
        "\n",
        "x_batch = x_train[batch_mask]\n",
        "t_batch = t_train[batch_mask]\n",
        "\n",
        "print('batch_mask :', batch_mask)\n",
        "print('x_batch.shape :', x_batch.shape)\n",
        "print('t_batch.shape :', t_batch.shape)"
      ],
      "metadata": {
        "colab": {
          "base_uri": "https://localhost:8080/"
        },
        "id": "EOULYrSxPGGj",
        "outputId": "425db950-9948-4226-b829-b760c3dd686c"
      },
      "execution_count": null,
      "outputs": [
        {
          "output_type": "stream",
          "name": "stdout",
          "text": [
            "batch_mask : [ 5651 48206  7316 23124 43701 28837 46731 46632 27684  3970]\n",
            "x_batch.shape : (10, 784)\n",
            "t_batch.shape : (10,)\n"
          ]
        }
      ]
    },
    {
      "cell_type": "markdown",
      "source": [
        "## **Mini batch cross entropy**"
      ],
      "metadata": {
        "id": "np1wXIonRERW"
      }
    },
    {
      "cell_type": "code",
      "source": [
        "# One-hot\n",
        "def cross_entropy_error(y, t):\n",
        "   if y.ndim == 1:\n",
        "       t = t.reshape(1, t.size)\n",
        "       y = y.reshape(1, y.size)\n",
        "\n",
        "   batch_size = y.shape[0]\n",
        "   return -np.sum(t * np.log(y)) / batch_size"
      ],
      "metadata": {
        "id": "BFm02-fnRD0V"
      },
      "execution_count": null,
      "outputs": []
    },
    {
      "cell_type": "code",
      "source": [
        "# label\n",
        "def cross_entropy_error(y, t):\n",
        "   if y.ndim == 1:\n",
        "       t = t.reshape(1, t.size)\n",
        "       y = y.reshape(1, y.size)\n",
        "\n",
        "   batch_size = y.shape[0]\n",
        "   return -np.sum(np.log(y[np.arange(batch_size), t])) / batch_size # y[0, t_1], y[1, t_2], ..."
      ],
      "metadata": {
        "id": "jEqbVSOwSqel"
      },
      "execution_count": null,
      "outputs": []
    },
    {
      "cell_type": "markdown",
      "source": [
        "# **수치 미분**"
      ],
      "metadata": {
        "id": "txxpv9wYViN_"
      }
    },
    {
      "cell_type": "markdown",
      "source": [
        "## **미분(해석적)**"
      ],
      "metadata": {
        "id": "QugmOrvAEpe7"
      }
    },
    {
      "cell_type": "code",
      "source": [
        "def diff(f, x):\n",
        "    h = 10e-50  # 너무 작은 값은 계산이 안됨 -> 1e-4가 적당하다고 알려짐\n",
        "    return (f(x + h) - f(x)) / h"
      ],
      "metadata": {
        "id": "bqPt8KipEtrd"
      },
      "execution_count": null,
      "outputs": []
    },
    {
      "cell_type": "markdown",
      "source": [
        "## **미분(수치적)**"
      ],
      "metadata": {
        "id": "orJH-09PVaWs"
      }
    },
    {
      "cell_type": "code",
      "source": [
        "def numerical_diff(f, x):\n",
        "   h = 1e-4  # 0.0001\n",
        "   return (f(x+h) - f(x-h)) / (2*h) # 오차를 줄이기 위한 차분"
      ],
      "metadata": {
        "id": "ZWWshRjnVdXe"
      },
      "execution_count": 1,
      "outputs": []
    },
    {
      "cell_type": "code",
      "source": [
        "def func_1(x):\n",
        "    return 0.01*x**2 + 0.1*x\n",
        "\n",
        "import numpy as np\n",
        "import matplotlib.pyplot as plt\n",
        "\n",
        "x = np.arange(0.0, 20.0, 0.1)\n",
        "y = func_1(x)\n",
        "\n",
        "plt.xlabel(\"x\")\n",
        "plt.ylabel(\"f(x)\")\n",
        "plt.plot(x, y)\n",
        "plt.show()"
      ],
      "metadata": {
        "colab": {
          "base_uri": "https://localhost:8080/",
          "height": 449
        },
        "id": "DwiJrSkfEfbI",
        "outputId": "cda502a7-1973-46c3-a985-8fd1d8fb4c44"
      },
      "execution_count": 2,
      "outputs": [
        {
          "output_type": "display_data",
          "data": {
            "text/plain": [
              "<Figure size 640x480 with 1 Axes>"
            ],
            "image/png": "[encoded data removed]"
          },
          "metadata": {}
        }
      ]
    },
    {
      "cell_type": "code",
      "source": [
        "# x = 5, 10 미분\n",
        "print(numerical_diff(func_1, 5))    # real : 0.2\n",
        "print(numerical_diff(func_1, 10))   # real : 0.3"
      ],
      "metadata": {
        "colab": {
          "base_uri": "https://localhost:8080/"
        },
        "id": "g_8XgViRGxP3",
        "outputId": "3e3d78c6-a9df-4580-e18a-2d62e79b1295"
      },
      "execution_count": 6,
      "outputs": [
        {
          "output_type": "stream",
          "name": "stdout",
          "text": [
            "0.1999999999990898\n",
            "0.2999999999986347\n"
          ]
        }
      ]
    },
    {
      "cell_type": "markdown",
      "source": [
        "## **편미분**"
      ],
      "metadata": {
        "id": "Bn0E5bNQRHl6"
      }
    },
    {
      "cell_type": "code",
      "source": [
        "def func_2(x):\n",
        "    return x[0] ** 2 + x[1] ** 2    # np,sum(x ** 2) 동일"
      ],
      "metadata": {
        "id": "wI30mrZ0RJZ-"
      },
      "execution_count": 15,
      "outputs": []
    },
    {
      "cell_type": "markdown",
      "source": [
        "# **Gradient**\n",
        "모든 변수의 편미분을 벡터화 한 것"
      ],
      "metadata": {
        "id": "V-Kjp-a3S0Vt"
      }
    },
    {
      "cell_type": "code",
      "source": [
        "def func_2(x):\n",
        "    return x[0] ** 2 + x[1] ** 2    # np,sum(x ** 2) 동일\n",
        "\n",
        "def gradient(f, x):\n",
        "    h = 1e-4\n",
        "    grad = np.zeros_like(x) # x와 shape이 같은 배열 생성\n",
        "\n",
        "    for idx in range(x.size):\n",
        "        tmp_val = x[idx]\n",
        "\n",
        "        # f(x+h)\n",
        "        x[idx] = tmp_val + h\n",
        "        fxh1 = f(x)\n",
        "\n",
        "        # f(x-h)\n",
        "        x[idx] = tmp_val - h\n",
        "        fxh2 = f(x)\n",
        "\n",
        "        grad[idx] = (fxh1 - fxh2) / (2*h)\n",
        "        x[idx] = tmp_val\n",
        "\n",
        "    return grad\n",
        "\n",
        "print(gradient(func_2, np.array([3.0, 4.0])))\n",
        "print(gradient(func_2, np.array([0.0, 2.0])))\n",
        "print(gradient(func_2, np.array([3.0, 0.0])))"
      ],
      "metadata": {
        "colab": {
          "base_uri": "https://localhost:8080/"
        },
        "id": "R51OQNntS-FW",
        "outputId": "4135bed1-435f-4e92-ee34-45db833ee243"
      },
      "execution_count": 25,
      "outputs": [
        {
          "output_type": "stream",
          "name": "stdout",
          "text": [
            "[6. 8.]\n",
            "[0. 4.]\n",
            "[6. 0.]\n"
          ]
        }
      ]
    },
    {
      "cell_type": "markdown",
      "source": [
        "# **Gradient Descent**"
      ],
      "metadata": {
        "id": "3FsP1B98YDIa"
      }
    },
    {
      "cell_type": "code",
      "source": [
        "def gradient_descent(f, init_x, lr=0.01, step_num = 100):\n",
        "    x = init_x\n",
        "\n",
        "    for i in range(step_num):\n",
        "        grad = gradient(func_2, x)\n",
        "        x -= lr * grad\n",
        "\n",
        "    return x"
      ],
      "metadata": {
        "id": "1bPLo-eAYHEN"
      },
      "execution_count": 34,
      "outputs": []
    },
    {
      "cell_type": "code",
      "source": [
        "# lr이 작을경우\n",
        "init_x = np.array([-3.0, 4.0])\n",
        "gradient_descent(func_2, init_x=init_x, lr = 1e-10, step_num=100)"
      ],
      "metadata": {
        "colab": {
          "base_uri": "https://localhost:8080/"
        },
        "id": "gOmZYTGfauca",
        "outputId": "d64c5bce-20e2-47cd-dda3-b4704d1fc343"
      },
      "execution_count": 43,
      "outputs": [
        {
          "output_type": "execute_result",
          "data": {
            "text/plain": [
              "(array([-2.99999994,  3.99999992]),\n",
              " array([[-3.        ,  4.        ],\n",
              "        [-3.        ,  4.        ],\n",
              "        [-3.        ,  4.        ],\n",
              "        [-3.        ,  4.        ],\n",
              "        [-3.        ,  4.        ],\n",
              "        [-3.        ,  4.        ],\n",
              "        [-3.        ,  4.        ],\n",
              "        [-3.        ,  3.99999999],\n",
              "        [-3.        ,  3.99999999],\n",
              "        [-2.99999999,  3.99999999],\n",
              "        [-2.99999999,  3.99999999],\n",
              "        [-2.99999999,  3.99999999],\n",
              "        [-2.99999999,  3.99999999],\n",
              "        [-2.99999999,  3.99999999],\n",
              "        [-2.99999999,  3.99999999],\n",
              "        [-2.99999999,  3.99999999],\n",
              "        [-2.99999999,  3.99999999],\n",
              "        [-2.99999999,  3.99999999],\n",
              "        [-2.99999999,  3.99999999],\n",
              "        [-2.99999999,  3.99999998],\n",
              "        [-2.99999999,  3.99999998],\n",
              "        [-2.99999999,  3.99999998],\n",
              "        [-2.99999999,  3.99999998],\n",
              "        [-2.99999999,  3.99999998],\n",
              "        [-2.99999999,  3.99999998],\n",
              "        [-2.99999998,  3.99999998],\n",
              "        [-2.99999998,  3.99999998],\n",
              "        [-2.99999998,  3.99999998],\n",
              "        [-2.99999998,  3.99999998],\n",
              "        [-2.99999998,  3.99999998],\n",
              "        [-2.99999998,  3.99999998],\n",
              "        [-2.99999998,  3.99999998],\n",
              "        [-2.99999998,  3.99999997],\n",
              "        [-2.99999998,  3.99999997],\n",
              "        [-2.99999998,  3.99999997],\n",
              "        [-2.99999998,  3.99999997],\n",
              "        [-2.99999998,  3.99999997],\n",
              "        [-2.99999998,  3.99999997],\n",
              "        [-2.99999998,  3.99999997],\n",
              "        [-2.99999998,  3.99999997],\n",
              "        [-2.99999998,  3.99999997],\n",
              "        [-2.99999998,  3.99999997],\n",
              "        [-2.99999997,  3.99999997],\n",
              "        [-2.99999997,  3.99999997],\n",
              "        [-2.99999997,  3.99999996],\n",
              "        [-2.99999997,  3.99999996],\n",
              "        [-2.99999997,  3.99999996],\n",
              "        [-2.99999997,  3.99999996],\n",
              "        [-2.99999997,  3.99999996],\n",
              "        [-2.99999997,  3.99999996],\n",
              "        [-2.99999997,  3.99999996],\n",
              "        [-2.99999997,  3.99999996],\n",
              "        [-2.99999997,  3.99999996],\n",
              "        [-2.99999997,  3.99999996],\n",
              "        [-2.99999997,  3.99999996],\n",
              "        [-2.99999997,  3.99999996],\n",
              "        [-2.99999997,  3.99999996],\n",
              "        [-2.99999997,  3.99999995],\n",
              "        [-2.99999997,  3.99999995],\n",
              "        [-2.99999996,  3.99999995],\n",
              "        [-2.99999996,  3.99999995],\n",
              "        [-2.99999996,  3.99999995],\n",
              "        [-2.99999996,  3.99999995],\n",
              "        [-2.99999996,  3.99999995],\n",
              "        [-2.99999996,  3.99999995],\n",
              "        [-2.99999996,  3.99999995],\n",
              "        [-2.99999996,  3.99999995],\n",
              "        [-2.99999996,  3.99999995],\n",
              "        [-2.99999996,  3.99999995],\n",
              "        [-2.99999996,  3.99999994],\n",
              "        [-2.99999996,  3.99999994],\n",
              "        [-2.99999996,  3.99999994],\n",
              "        [-2.99999996,  3.99999994],\n",
              "        [-2.99999996,  3.99999994],\n",
              "        [-2.99999996,  3.99999994],\n",
              "        [-2.99999995,  3.99999994],\n",
              "        [-2.99999995,  3.99999994],\n",
              "        [-2.99999995,  3.99999994],\n",
              "        [-2.99999995,  3.99999994],\n",
              "        [-2.99999995,  3.99999994],\n",
              "        [-2.99999995,  3.99999994],\n",
              "        [-2.99999995,  3.99999994],\n",
              "        [-2.99999995,  3.99999993],\n",
              "        [-2.99999995,  3.99999993],\n",
              "        [-2.99999995,  3.99999993],\n",
              "        [-2.99999995,  3.99999993],\n",
              "        [-2.99999995,  3.99999993],\n",
              "        [-2.99999995,  3.99999993],\n",
              "        [-2.99999995,  3.99999993],\n",
              "        [-2.99999995,  3.99999993],\n",
              "        [-2.99999995,  3.99999993],\n",
              "        [-2.99999995,  3.99999993],\n",
              "        [-2.99999994,  3.99999993],\n",
              "        [-2.99999994,  3.99999993],\n",
              "        [-2.99999994,  3.99999992],\n",
              "        [-2.99999994,  3.99999992],\n",
              "        [-2.99999994,  3.99999992],\n",
              "        [-2.99999994,  3.99999992],\n",
              "        [-2.99999994,  3.99999992],\n",
              "        [-2.99999994,  3.99999992]]))"
            ]
          },
          "metadata": {},
          "execution_count": 43
        }
      ]
    },
    {
      "cell_type": "code",
      "source": [
        "# lr이 적합할 경우\n",
        "init_x = np.array([-3.0, 4.0])\n",
        "gradient_descent(func_2, init_x=init_x, lr = 0.1, step_num=100)"
      ],
      "metadata": {
        "colab": {
          "base_uri": "https://localhost:8080/"
        },
        "id": "Pm7tcshEaOVj",
        "outputId": "ecd4fbaf-6929-4429-d4c4-0a89c541edd0"
      },
      "execution_count": 44,
      "outputs": [
        {
          "output_type": "execute_result",
          "data": {
            "text/plain": [
              "(array([-6.11110793e-10,  8.14814391e-10]),\n",
              " array([[-3.00000000e+00,  4.00000000e+00],\n",
              "        [-2.40000000e+00,  3.20000000e+00],\n",
              "        [-1.92000000e+00,  2.56000000e+00],\n",
              "        [-1.53600000e+00,  2.04800000e+00],\n",
              "        [-1.22880000e+00,  1.63840000e+00],\n",
              "        [-9.83040000e-01,  1.31072000e+00],\n",
              "        [-7.86432000e-01,  1.04857600e+00],\n",
              "        [-6.29145600e-01,  8.38860800e-01],\n",
              "        [-5.03316480e-01,  6.71088640e-01],\n",
              "        [-4.02653184e-01,  5.36870912e-01],\n",
              "        [-3.22122547e-01,  4.29496730e-01],\n",
              "        [-2.57698038e-01,  3.43597384e-01],\n",
              "        [-2.06158430e-01,  2.74877907e-01],\n",
              "        [-1.64926744e-01,  2.19902326e-01],\n",
              "        [-1.31941395e-01,  1.75921860e-01],\n",
              "        [-1.05553116e-01,  1.40737488e-01],\n",
              "        [-8.44424930e-02,  1.12589991e-01],\n",
              "        [-6.75539944e-02,  9.00719925e-02],\n",
              "        [-5.40431955e-02,  7.20575940e-02],\n",
              "        [-4.32345564e-02,  5.76460752e-02],\n",
              "        [-3.45876451e-02,  4.61168602e-02],\n",
              "        [-2.76701161e-02,  3.68934881e-02],\n",
              "        [-2.21360929e-02,  2.95147905e-02],\n",
              "        [-1.77088743e-02,  2.36118324e-02],\n",
              "        [-1.41670994e-02,  1.88894659e-02],\n",
              "        [-1.13336796e-02,  1.51115727e-02],\n",
              "        [-9.06694365e-03,  1.20892582e-02],\n",
              "        [-7.25355492e-03,  9.67140656e-03],\n",
              "        [-5.80284393e-03,  7.73712525e-03],\n",
              "        [-4.64227515e-03,  6.18970020e-03],\n",
              "        [-3.71382012e-03,  4.95176016e-03],\n",
              "        [-2.97105609e-03,  3.96140813e-03],\n",
              "        [-2.37684488e-03,  3.16912650e-03],\n",
              "        [-1.90147590e-03,  2.53530120e-03],\n",
              "        [-1.52118072e-03,  2.02824096e-03],\n",
              "        [-1.21694458e-03,  1.62259277e-03],\n",
              "        [-9.73555661e-04,  1.29807421e-03],\n",
              "        [-7.78844529e-04,  1.03845937e-03],\n",
              "        [-6.23075623e-04,  8.30767497e-04],\n",
              "        [-4.98460498e-04,  6.64613998e-04],\n",
              "        [-3.98768399e-04,  5.31691198e-04],\n",
              "        [-3.19014719e-04,  4.25352959e-04],\n",
              "        [-2.55211775e-04,  3.40282367e-04],\n",
              "        [-2.04169420e-04,  2.72225894e-04],\n",
              "        [-1.63335536e-04,  2.17780715e-04],\n",
              "        [-1.30668429e-04,  1.74224572e-04],\n",
              "        [-1.04534743e-04,  1.39379657e-04],\n",
              "        [-8.36277945e-05,  1.11503726e-04],\n",
              "        [-6.69022356e-05,  8.92029808e-05],\n",
              "        [-5.35217885e-05,  7.13623846e-05],\n",
              "        [-4.28174308e-05,  5.70899077e-05],\n",
              "        [-3.42539446e-05,  4.56719262e-05],\n",
              "        [-2.74031557e-05,  3.65375409e-05],\n",
              "        [-2.19225246e-05,  2.92300327e-05],\n",
              "        [-1.75380196e-05,  2.33840262e-05],\n",
              "        [-1.40304157e-05,  1.87072210e-05],\n",
              "        [-1.12243326e-05,  1.49657768e-05],\n",
              "        [-8.97946606e-06,  1.19726214e-05],\n",
              "        [-7.18357285e-06,  9.57809713e-06],\n",
              "        [-5.74685828e-06,  7.66247770e-06],\n",
              "        [-4.59748662e-06,  6.12998216e-06],\n",
              "        [-3.67798930e-06,  4.90398573e-06],\n",
              "        [-2.94239144e-06,  3.92318858e-06],\n",
              "        [-2.35391315e-06,  3.13855087e-06],\n",
              "        [-1.88313052e-06,  2.51084069e-06],\n",
              "        [-1.50650442e-06,  2.00867256e-06],\n",
              "        [-1.20520353e-06,  1.60693804e-06],\n",
              "        [-9.64162827e-07,  1.28555044e-06],\n",
              "        [-7.71330261e-07,  1.02844035e-06],\n",
              "        [-6.17064209e-07,  8.22752279e-07],\n",
              "        [-4.93651367e-07,  6.58201823e-07],\n",
              "        [-3.94921094e-07,  5.26561458e-07],\n",
              "        [-3.15936875e-07,  4.21249167e-07],\n",
              "        [-2.52749500e-07,  3.36999333e-07],\n",
              "        [-2.02199600e-07,  2.69599467e-07],\n",
              "        [-1.61759680e-07,  2.15679573e-07],\n",
              "        [-1.29407744e-07,  1.72543659e-07],\n",
              "        [-1.03526195e-07,  1.38034927e-07],\n",
              "        [-8.28209562e-08,  1.10427942e-07],\n",
              "        [-6.62567649e-08,  8.83423532e-08],\n",
              "        [-5.30054119e-08,  7.06738826e-08],\n",
              "        [-4.24043296e-08,  5.65391061e-08],\n",
              "        [-3.39234636e-08,  4.52312849e-08],\n",
              "        [-2.71387709e-08,  3.61850279e-08],\n",
              "        [-2.17110167e-08,  2.89480223e-08],\n",
              "        [-1.73688134e-08,  2.31584178e-08],\n",
              "        [-1.38950507e-08,  1.85267343e-08],\n",
              "        [-1.11160406e-08,  1.48213874e-08],\n",
              "        [-8.89283245e-09,  1.18571099e-08],\n",
              "        [-7.11426596e-09,  9.48568795e-09],\n",
              "        [-5.69141277e-09,  7.58855036e-09],\n",
              "        [-4.55313022e-09,  6.07084029e-09],\n",
              "        [-3.64250417e-09,  4.85667223e-09],\n",
              "        [-2.91400334e-09,  3.88533778e-09],\n",
              "        [-2.33120267e-09,  3.10827023e-09],\n",
              "        [-1.86496214e-09,  2.48661618e-09],\n",
              "        [-1.49196971e-09,  1.98929295e-09],\n",
              "        [-1.19357577e-09,  1.59143436e-09],\n",
              "        [-9.54860614e-10,  1.27314749e-09],\n",
              "        [-7.63888491e-10,  1.01851799e-09]]))"
            ]
          },
          "metadata": {},
          "execution_count": 44
        }
      ]
    },
    {
      "cell_type": "code",
      "source": [
        "# lr이 클 경우\n",
        "init_x = np.array([-3.0, 4.0])\n",
        "gradient_descent(func_2, init_x=init_x, lr = 10.0, step_num=100)"
      ],
      "metadata": {
        "colab": {
          "base_uri": "https://localhost:8080/"
        },
        "id": "kzEwU3HGbdeN",
        "outputId": "426b8450-e6fe-4207-e3dd-b2dc1957edac"
      },
      "execution_count": 45,
      "outputs": [
        {
          "output_type": "execute_result",
          "data": {
            "text/plain": [
              "(array([-2.58983747e+13, -1.29524862e+12]),\n",
              " array([[-3.00000000e+00,  4.00000000e+00],\n",
              "        [ 5.70000000e+01, -7.60000000e+01],\n",
              "        [-1.08300000e+03,  1.44400000e+03],\n",
              "        [ 2.05770000e+04, -2.74360000e+04],\n",
              "        [-3.90963008e+05,  5.21284002e+05],\n",
              "        [ 7.42829664e+06, -9.90439654e+06],\n",
              "        [-1.41137328e+08,  1.88183103e+08],\n",
              "        [ 2.68126267e+09, -3.57501690e+09],\n",
              "        [-5.09763373e+10,  6.79001831e+10],\n",
              "        [ 9.45170863e+11, -1.29524862e+12],\n",
              "        [-2.58983747e+13, -1.29524862e+12],\n",
              "        [-2.58983747e+13, -1.29524862e+12],\n",
              "        [-2.58983747e+13, -1.29524862e+12],\n",
              "        [-2.58983747e+13, -1.29524862e+12],\n",
              "        [-2.58983747e+13, -1.29524862e+12],\n",
              "        [-2.58983747e+13, -1.29524862e+12],\n",
              "        [-2.58983747e+13, -1.29524862e+12],\n",
              "        [-2.58983747e+13, -1.29524862e+12],\n",
              "        [-2.58983747e+13, -1.29524862e+12],\n",
              "        [-2.58983747e+13, -1.29524862e+12],\n",
              "        [-2.58983747e+13, -1.29524862e+12],\n",
              "        [-2.58983747e+13, -1.29524862e+12],\n",
              "        [-2.58983747e+13, -1.29524862e+12],\n",
              "        [-2.58983747e+13, -1.29524862e+12],\n",
              "        [-2.58983747e+13, -1.29524862e+12],\n",
              "        [-2.58983747e+13, -1.29524862e+12],\n",
              "        [-2.58983747e+13, -1.29524862e+12],\n",
              "        [-2.58983747e+13, -1.29524862e+12],\n",
              "        [-2.58983747e+13, -1.29524862e+12],\n",
              "        [-2.58983747e+13, -1.29524862e+12],\n",
              "        [-2.58983747e+13, -1.29524862e+12],\n",
              "        [-2.58983747e+13, -1.29524862e+12],\n",
              "        [-2.58983747e+13, -1.29524862e+12],\n",
              "        [-2.58983747e+13, -1.29524862e+12],\n",
              "        [-2.58983747e+13, -1.29524862e+12],\n",
              "        [-2.58983747e+13, -1.29524862e+12],\n",
              "        [-2.58983747e+13, -1.29524862e+12],\n",
              "        [-2.58983747e+13, -1.29524862e+12],\n",
              "        [-2.58983747e+13, -1.29524862e+12],\n",
              "        [-2.58983747e+13, -1.29524862e+12],\n",
              "        [-2.58983747e+13, -1.29524862e+12],\n",
              "        [-2.58983747e+13, -1.29524862e+12],\n",
              "        [-2.58983747e+13, -1.29524862e+12],\n",
              "        [-2.58983747e+13, -1.29524862e+12],\n",
              "        [-2.58983747e+13, -1.29524862e+12],\n",
              "        [-2.58983747e+13, -1.29524862e+12],\n",
              "        [-2.58983747e+13, -1.29524862e+12],\n",
              "        [-2.58983747e+13, -1.29524862e+12],\n",
              "        [-2.58983747e+13, -1.29524862e+12],\n",
              "        [-2.58983747e+13, -1.29524862e+12],\n",
              "        [-2.58983747e+13, -1.29524862e+12],\n",
              "        [-2.58983747e+13, -1.29524862e+12],\n",
              "        [-2.58983747e+13, -1.29524862e+12],\n",
              "        [-2.58983747e+13, -1.29524862e+12],\n",
              "        [-2.58983747e+13, -1.29524862e+12],\n",
              "        [-2.58983747e+13, -1.29524862e+12],\n",
              "        [-2.58983747e+13, -1.29524862e+12],\n",
              "        [-2.58983747e+13, -1.29524862e+12],\n",
              "        [-2.58983747e+13, -1.29524862e+12],\n",
              "        [-2.58983747e+13, -1.29524862e+12],\n",
              "        [-2.58983747e+13, -1.29524862e+12],\n",
              "        [-2.58983747e+13, -1.29524862e+12],\n",
              "        [-2.58983747e+13, -1.29524862e+12],\n",
              "        [-2.58983747e+13, -1.29524862e+12],\n",
              "        [-2.58983747e+13, -1.29524862e+12],\n",
              "        [-2.58983747e+13, -1.29524862e+12],\n",
              "        [-2.58983747e+13, -1.29524862e+12],\n",
              "        [-2.58983747e+13, -1.29524862e+12],\n",
              "        [-2.58983747e+13, -1.29524862e+12],\n",
              "        [-2.58983747e+13, -1.29524862e+12],\n",
              "        [-2.58983747e+13, -1.29524862e+12],\n",
              "        [-2.58983747e+13, -1.29524862e+12],\n",
              "        [-2.58983747e+13, -1.29524862e+12],\n",
              "        [-2.58983747e+13, -1.29524862e+12],\n",
              "        [-2.58983747e+13, -1.29524862e+12],\n",
              "        [-2.58983747e+13, -1.29524862e+12],\n",
              "        [-2.58983747e+13, -1.29524862e+12],\n",
              "        [-2.58983747e+13, -1.29524862e+12],\n",
              "        [-2.58983747e+13, -1.29524862e+12],\n",
              "        [-2.58983747e+13, -1.29524862e+12],\n",
              "        [-2.58983747e+13, -1.29524862e+12],\n",
              "        [-2.58983747e+13, -1.29524862e+12],\n",
              "        [-2.58983747e+13, -1.29524862e+12],\n",
              "        [-2.58983747e+13, -1.29524862e+12],\n",
              "        [-2.58983747e+13, -1.29524862e+12],\n",
              "        [-2.58983747e+13, -1.29524862e+12],\n",
              "        [-2.58983747e+13, -1.29524862e+12],\n",
              "        [-2.58983747e+13, -1.29524862e+12],\n",
              "        [-2.58983747e+13, -1.29524862e+12],\n",
              "        [-2.58983747e+13, -1.29524862e+12],\n",
              "        [-2.58983747e+13, -1.29524862e+12],\n",
              "        [-2.58983747e+13, -1.29524862e+12],\n",
              "        [-2.58983747e+13, -1.29524862e+12],\n",
              "        [-2.58983747e+13, -1.29524862e+12],\n",
              "        [-2.58983747e+13, -1.29524862e+12],\n",
              "        [-2.58983747e+13, -1.29524862e+12],\n",
              "        [-2.58983747e+13, -1.29524862e+12],\n",
              "        [-2.58983747e+13, -1.29524862e+12],\n",
              "        [-2.58983747e+13, -1.29524862e+12],\n",
              "        [-2.58983747e+13, -1.29524862e+12]]))"
            ]
          },
          "metadata": {},
          "execution_count": 45
        }
      ]
    }
  ]
}