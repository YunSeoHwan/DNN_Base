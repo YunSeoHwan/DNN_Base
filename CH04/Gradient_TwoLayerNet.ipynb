{
  "nbformat": 4,
  "nbformat_minor": 0,
  "metadata": {
    "colab": {
      "provenance": [],
      "gpuType": "T4",
      "mount_file_id": "1pmMH_NOvSBhxZVlNciu5u5414hZX510g",
      "authorship_tag": "ABX9TyMrsuD48vDHtmw+ROPQPxLp",
      "include_colab_link": true
    },
    "kernelspec": {
      "name": "python3",
      "display_name": "Python 3"
    },
    "language_info": {
      "name": "python"
    },
    "accelerator": "GPU"
  },
  "cells": [
    {
      "cell_type": "markdown",
      "metadata": {
        "id": "view-in-github",
        "colab_type": "text"
      },
      "source": [
        "<a href=\"https://colab.research.google.com/github/YunSeoHwan/DNN_Base/blob/main/CH04/Gradient_TwoLayerNet.ipynb\" target=\"_parent\"><img src=\"https://colab.research.google.com/assets/colab-badge.svg\" alt=\"Open In Colab\"/></a>"
      ]
    },
    {
      "cell_type": "markdown",
      "source": [
        "# **TwoLayerNet**"
      ],
      "metadata": {
        "id": "NRdUcaBbnOom"
      }
    },
    {
      "cell_type": "markdown",
      "source": [
        "## **Define**"
      ],
      "metadata": {
        "id": "mQ0Qjpirsyg-"
      }
    },
    {
      "cell_type": "code",
      "execution_count": 1,
      "metadata": {
        "id": "df_oiwl8kCAw"
      },
      "outputs": [],
      "source": [
        "import sys, os\n",
        "import numpy as np\n",
        "sys.path.append('/content/drive/MyDrive/Colab Notebooks/DNN_base/common/')\n",
        "from functions import *\n",
        "from gradient import numerical_gradient"
      ]
    },
    {
      "cell_type": "code",
      "source": [
        "class TwoLayerNet:\n",
        "\n",
        "    def __init__(self, input_size, hidden_size, output_size, weight_init_std=0.01):\n",
        "\n",
        "        # weight reset\n",
        "        self.params = {}\n",
        "        self.params['W1'] = weight_init_std * np.random.randn(input_size, hidden_size)\n",
        "        self.params['b1'] = np.zeros(hidden_size)\n",
        "\n",
        "        self.params['W2'] = weight_init_std * np.random.randn(hidden_size, output_size)\n",
        "        self.params['b2'] = np.zeros(output_size)\n",
        "\n",
        "    def predict(self, x):\n",
        "        W1, W2 = self.params['W1'], self.params['W2']\n",
        "        b1, b2 = self.params['b1'], self.params['b2']\n",
        "\n",
        "        a1 = np.dot(x, W1) + b1\n",
        "        z = sigmoid(a1)\n",
        "        a2 = np.dot(z, W2) + b2\n",
        "        y = softmax(a2)\n",
        "\n",
        "        return y\n",
        "\n",
        "    def loss(self, x, t):\n",
        "        y = self.predict(x)\n",
        "\n",
        "        return cross_entropy_error(y, t)\n",
        "\n",
        "    def accuracy(self, x, t):\n",
        "        y = self.predict(x)\n",
        "        y = np.argmax(y, axis=1)\n",
        "        t = np.argmax(t, axis=1)\n",
        "\n",
        "        acc = np.sum(y == t) / float(x.shape[0])\n",
        "        return acc\n",
        "\n",
        "    def numerical_gradient(self, x, t):\n",
        "        loss_W = lambda W: self.loss(x, t)\n",
        "\n",
        "        grads = {}\n",
        "        grads['W1'] = numerical_gradient(loss_W, self.params['W1'])\n",
        "        grads['b1'] = numerical_gradient(loss_W, self.params['b1'])\n",
        "        grads['W2'] = numerical_gradient(loss_W, self.params['W2'])\n",
        "        grads['b2'] = numerical_gradient(loss_W, self.params['b2'])\n",
        "\n",
        "        return grads"
      ],
      "metadata": {
        "id": "kfTdnd-Zofhh"
      },
      "execution_count": 2,
      "outputs": []
    },
    {
      "cell_type": "code",
      "source": [
        "x = np.array([[1, 2], [2, 4], [3, 6]])\n",
        "np.argmax(x, axis=1) # index return"
      ],
      "metadata": {
        "colab": {
          "base_uri": "https://localhost:8080/"
        },
        "id": "4rBHqzZ_r5Ia",
        "outputId": "d9a77bb0-251b-450a-ff1d-5efd279330a1"
      },
      "execution_count": 7,
      "outputs": [
        {
          "output_type": "execute_result",
          "data": {
            "text/plain": [
              "array([1, 1, 1])"
            ]
          },
          "metadata": {},
          "execution_count": 7
        }
      ]
    },
    {
      "cell_type": "markdown",
      "source": [
        "## **Return**"
      ],
      "metadata": {
        "id": "nF08pkePsuRn"
      }
    },
    {
      "cell_type": "code",
      "source": [
        "net = TwoLayerNet(input_size=784, hidden_size=100, output_size=10)\n",
        "\n",
        "print(f\"W1 shape : {net.params['W1'].shape}\")\n",
        "print(f\"b1 shape : {net.params['b1'].shape}\")\n",
        "print(f\"W2 shape : {net.params['W2'].shape}\")\n",
        "print(f\"b2 shape : {net.params['b2'].shape}\")"
      ],
      "metadata": {
        "colab": {
          "base_uri": "https://localhost:8080/"
        },
        "id": "fqlGwH7Os05T",
        "outputId": "59bcedcb-644f-40a8-9399-3f6de467c079"
      },
      "execution_count": 3,
      "outputs": [
        {
          "output_type": "stream",
          "name": "stdout",
          "text": [
            "W1 shape : (784, 100)\n",
            "b1 shape : (100,)\n",
            "W2 shape : (100, 10)\n",
            "b2 shape : (10,)\n"
          ]
        }
      ]
    },
    {
      "cell_type": "code",
      "source": [
        "x = np.random.rand(1, 784)  # 더미 입력 데이터(1장 분량)\n",
        "t = np.random.rand(1, 10)  # 더미 정답 레이블(1장 분량)\n",
        "y = net.predict(x)\n",
        "\n",
        "grads = net.numerical_gradient(x, t)  # 기울기 계산\n",
        "\n",
        "print(f\"W1 grad shape : {net.params['W1'].shape}\")\n",
        "print(f\"b1 grad shape : {net.params['b1'].shape}\")\n",
        "print(f\"W2 grad shape : {net.params['W2'].shape}\")\n",
        "print(f\"b2 grad shape : {net.params['b2'].shape}\")"
      ],
      "metadata": {
        "colab": {
          "base_uri": "https://localhost:8080/"
        },
        "id": "OtXQvOgGt80j",
        "outputId": "40432ba4-66dc-4381-c426-1affbbcaea4d"
      },
      "execution_count": 4,
      "outputs": [
        {
          "output_type": "stream",
          "name": "stdout",
          "text": [
            "W1 grad shape : (784, 100)\n",
            "b1 grad shape : (100,)\n",
            "W2 grad shape : (100, 10)\n",
            "b2 grad shape : (10,)\n"
          ]
        }
      ]
    }
  ]
}