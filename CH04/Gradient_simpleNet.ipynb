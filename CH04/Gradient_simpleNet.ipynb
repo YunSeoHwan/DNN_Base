{
  "nbformat": 4,
  "nbformat_minor": 0,
  "metadata": {
    "colab": {
      "provenance": [],
      "toc_visible": true,
      "mount_file_id": "1T6j74pDe6SR-Zndmh8bhQQlAKZ96oHiA",
      "authorship_tag": "ABX9TyMqpnijezu65xKHiT5kYETr",
      "include_colab_link": true
    },
    "kernelspec": {
      "name": "python3",
      "display_name": "Python 3"
    },
    "language_info": {
      "name": "python"
    }
  },
  "cells": [
    {
      "cell_type": "markdown",
      "metadata": {
        "id": "view-in-github",
        "colab_type": "text"
      },
      "source": [
        "<a href=\"https://colab.research.google.com/github/YunSeoHwan/DNN_Base/blob/main/CH04/Gradient_simpleNet.ipynb\" target=\"_parent\"><img src=\"https://colab.research.google.com/assets/colab-badge.svg\" alt=\"Open In Colab\"/></a>"
      ]
    },
    {
      "cell_type": "markdown",
      "source": [
        "# **SimpleNet Gradient descent**"
      ],
      "metadata": {
        "id": "I0RlraRohB7i"
      }
    },
    {
      "cell_type": "markdown",
      "source": [
        "## **Define SimpleNet**"
      ],
      "metadata": {
        "id": "wI1XG94UhHxV"
      }
    },
    {
      "cell_type": "code",
      "execution_count": 6,
      "metadata": {
        "id": "_dSBGqpzcTvP"
      },
      "outputs": [],
      "source": [
        "import sys, os\n",
        "sys.path.append('/content/drive/MyDrive/Colab Notebooks/DNN_base/common/')\n",
        "import numpy as np\n",
        "from functions import softmax, cross_entropy_error\n",
        "from gradient import numerical_gradient"
      ]
    },
    {
      "cell_type": "code",
      "source": [
        "class simpleNet:\n",
        "    def __init__(self):\n",
        "        self.W = np.random.randn(2, 3)  # 정규 분포에서 난수 생성\n",
        "\n",
        "    def predict(self, x):\n",
        "        return np.dot(x, self.W)\n",
        "\n",
        "    def loss(self, x, t):\n",
        "        z = self.predict(x)\n",
        "        y = softmax(z)\n",
        "        loss = cross_entropy_error(y, t)\n",
        "\n",
        "        return loss"
      ],
      "metadata": {
        "id": "UwUtOzzrdYOW"
      },
      "execution_count": 7,
      "outputs": []
    },
    {
      "cell_type": "markdown",
      "source": [
        "## **Result**"
      ],
      "metadata": {
        "id": "U3kW7HjwhL8Q"
      }
    },
    {
      "cell_type": "code",
      "source": [
        "net = simpleNet()\n",
        "print(\"Network Weight\")\n",
        "print(net.W)\n",
        "\n",
        "x = np.array([0.6, 0.9])\n",
        "p = net.predict(x)\n",
        "print(\"\\nPredict\")\n",
        "print(p)    # x dot W -> (1 x 2) (2 x 3) -> (1 x 3)\n",
        "\n",
        "t = np.array([0, 0, 1])\n",
        "l = net.loss(x, t)\n",
        "print(\"\\nLoss\")\n",
        "print(l)"
      ],
      "metadata": {
        "colab": {
          "base_uri": "https://localhost:8080/"
        },
        "id": "lUMXg9oyedhw",
        "outputId": "2c73de04-9f0c-4d54-94bd-ecba0b53ef7f"
      },
      "execution_count": 20,
      "outputs": [
        {
          "output_type": "stream",
          "name": "stdout",
          "text": [
            "Network Weight\n",
            "[[ 2.33985046  0.21460797  1.36117277]\n",
            " [ 0.09003226 -0.88783281  0.37000278]]\n",
            "\n",
            "Predict\n",
            "[ 1.48493931 -0.67028475  1.14970616]\n",
            "\n",
            "Loss\n",
            "0.9401216724176118\n"
          ]
        }
      ]
    },
    {
      "cell_type": "code",
      "source": [
        "def f(W):\n",
        "    return net.loss(x, t)"
      ],
      "metadata": {
        "id": "Eq8xSPxNhOxB"
      },
      "execution_count": 22,
      "outputs": []
    },
    {
      "cell_type": "code",
      "source": [
        "dW = numerical_gradient(f, net.W)\n",
        "print(dW)"
      ],
      "metadata": {
        "colab": {
          "base_uri": "https://localhost:8080/"
        },
        "id": "TTj-xxAVhUPY",
        "outputId": "354697ff-9f88-40a7-956f-7f4fc618ef98"
      },
      "execution_count": 23,
      "outputs": [
        {
          "output_type": "stream",
          "name": "stdout",
          "text": [
            "[[ 0.32768101  0.03797077 -0.36565178]\n",
            " [ 0.49152152  0.05695615 -0.54847767]]\n"
          ]
        }
      ]
    }
  ]
}